{
 "cells": [
  {
   "cell_type": "markdown",
   "metadata": {},
   "source": [
    "# Estimation of present value of monthly payments for vehicle"
   ]
  },
  {
   "cell_type": "markdown",
   "metadata": {},
   "source": [
    "## This is a small calculation for net present value(npv) of future cash flows for periodic payments towards car purchase . "
   ]
  },
  {
   "cell_type": "markdown",
   "metadata": {},
   "source": [
    "### In this case, a discount rate of 8% per annum is assumed. So monthly rate of discount is 0.0066667. Two payouts of 3 yrs and 5 yrs is considered, one for lease and one for bank loan. A resale value is also considered for the car after 3 years."
   ]
  },
  {
   "cell_type": "code",
   "execution_count": 59,
   "metadata": {},
   "outputs": [],
   "source": [
    "import numpy as np   # python library called numpy"
   ]
  },
  {
   "cell_type": "code",
   "execution_count": 99,
   "metadata": {},
   "outputs": [],
   "source": [
    "discount_rate = .08  # yearly, for bank loan\n",
    "discount_rate_monthly = discount_rate/12\n",
    "r = discount_rate_monthly\n",
    "discount_rate = .115 # yearly, another example, for lease \n",
    "discount_rate_monthly = discount_rate/12\n",
    "r1 = discount_rate_monthly\n",
    "value_after_3yrs= 600000  # cash in"
   ]
  },
  {
   "cell_type": "code",
   "execution_count": 106,
   "metadata": {},
   "outputs": [],
   "source": [
    "cf1 = [-53000]*36 # array of payouts\n",
    "cf2 = [-25548]*60 # array of payouts "
   ]
  },
  {
   "cell_type": "code",
   "execution_count": 107,
   "metadata": {},
   "outputs": [
    {
     "name": "stdout",
     "output_type": "stream",
     "text": [
      "0.009583333333333334 -1622631.799750127\n",
      "-1197001.003968752\n"
     ]
    }
   ],
   "source": [
    "# calculate present value of payouts\n",
    "n1 = np.arange(0,36,1)\n",
    "\n",
    "pv1 = 0\n",
    "\n",
    "for n in n1:\n",
    "    pv1 = pv1 + cf1[n]/(1+r1)**n\n",
    "print(r1, pv1)  # net present value for payouts \n",
    "pv_incl_sale = pv1 + value_after_3yrs/((1+r1)**36)\n",
    "print(pv_incl_sale)"
   ]
  },
  {
   "cell_type": "code",
   "execution_count": 98,
   "metadata": {},
   "outputs": [
    {
     "name": "stdout",
     "output_type": "stream",
     "text": [
      "0.006666666666666667 -1268387.2504243017\n",
      "-1408387.2504243017\n",
      "-1139903.072652637\n"
     ]
    }
   ],
   "source": [
    "# calculate present value of payouts\n",
    "n2 = np.arange(0,60,1)\n",
    "\n",
    "pv2 = 0\n",
    "# r = .0066667     # monthly interest rate\n",
    "for n in n2:\n",
    "    pv2 = pv2 + cf2[n]/(1+r)**n\n",
    "print(r, pv2)  # net present value for payouts\n",
    "down_payment= -140000\n",
    "pv3 = pv2+down_payment\n",
    "print(pv3)\n",
    "sale_value_after_5yrs = 400000\n",
    "pv_sale_value= 400000/((1+r)**60)\n",
    "pv4 = pv2+down_payment+pv_sale_value\n",
    "print(pv4)"
   ]
  },
  {
   "cell_type": "code",
   "execution_count": null,
   "metadata": {},
   "outputs": [],
   "source": []
  }
 ],
 "metadata": {
  "kernelspec": {
   "display_name": "Python 3",
   "language": "python",
   "name": "python3"
  },
  "language_info": {
   "codemirror_mode": {
    "name": "ipython",
    "version": 3
   },
   "file_extension": ".py",
   "mimetype": "text/x-python",
   "name": "python",
   "nbconvert_exporter": "python",
   "pygments_lexer": "ipython3",
   "version": "3.8.5"
  }
 },
 "nbformat": 4,
 "nbformat_minor": 4
}
